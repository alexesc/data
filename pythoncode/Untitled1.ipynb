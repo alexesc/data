{
  "nbformat": 4,
  "nbformat_minor": 0,
  "metadata": {
    "colab": {
      "provenance": []
    },
    "kernelspec": {
      "name": "python3",
      "display_name": "Python 3"
    },
    "language_info": {
      "name": "python"
    }
  },
  "cells": [
    {
      "cell_type": "code",
      "execution_count": null,
      "metadata": {
        "id": "GgdFMJcNyEdu"
      },
      "outputs": [],
      "source": [
        "import pandas as pd\n",
        "path = \"https://github.com/alexesc/data/raw/main/enero2023.xlsx\"\n",
        "sheet_name = \"charts\"\n",
        "pollutants = pd.read_excel(path, sheet_name, engine='openpyxl')\n",
        "\n",
        "# Convert the time column to a datetime data type\n",
        "pollutants['time'] = pd.to_datetime(pollutants['time'])\n",
        "\n",
        "# Set the time column as the index of the DataFrame\n",
        "pollutants.set_index('time', inplace=True)\n",
        "pollutants_15min = pollutants.resample('15T').mean()\n",
        "#pollutants_15min['flow'] = pollutants_15min['flow'].ffill()\n",
        "#pollutants_15min['rainfall'] = pollutants_15min['rainfall'].ffill()"
      ]
    },
    {
      "cell_type": "code",
      "source": [
        "from scipy.interpolate import interp1d\n",
        "from pandas import Timedelta\n",
        "# Get the start date of the data\n",
        "start_date = pollutants_15min.index[0]\n",
        "\n",
        "# Convert the index to a TimedeltaIndex by subtracting the start date\n",
        "pollutants_15min.index = pollutants_15min.index - start_date\n",
        "\n",
        "# Convert the index to a numeric type by dividing the total number of seconds by the number of seconds in 15 minutes\n",
        "pollutants_15min.index = pollutants_15min.index.total_seconds() / (15 * 60)\n",
        "\n",
        "# Convert the index to a numeric type by dividing it by a Timedelta object with a frequency of 15 minutes\n",
        "# pollutants_15min.index = pollutants_15min.index / Timedelta(minutes=15)\n",
        "\n",
        "pollutants_15min['flow_interp'] = pollutants_15min['flow'].interpolate()\n",
        "pollutants_15min['rainfall_interp'] = pollutants_15min['rainfall'].interpolate()\n",
        "pollutants_15min['nh3_interp'] = pollutants_15min['nh3'].interpolate()\n",
        "pollutants_15min['no2_interp'] = pollutants_15min['no2'].interpolate()\n",
        "pollutants_15min['no3_interp'] = pollutants_15min['no3'].interpolate()\n",
        "pollutants_15min['p_interp'] = pollutants_15min['p'].interpolate()\n",
        "pollutants_15min['ss_interp'] = pollutants_15min['ss'].interpolate()\n",
        "pollutants_15min['tss_interp'] = pollutants_15min['tss'].interpolate()\n",
        "\n",
        "# interp_flow = interp1d(pollutants_15min.index, pollutants_15min['flow'], kind='linear')\n",
        "# interp_flow = interp1d(pollutants_15min.index, pollutants_15min['flow'], kind=3)\n",
        "# Cubic interpolation\n",
        "#interp_flow = interp1d(pollutants_15min.index, pollutants_15min['flow'], kind='cubic')\n",
        "#interp_rainfall = interp1d(pollutants_15min.index, pollutants_15min['rainfall'], kind='cubic')\n",
        "\n",
        "# Use the interpolation function to interpolate the values\n",
        "#pollutants_15min['flow'] = interp_flow(pollutants_15min.index)\n",
        "#pollutants_15min['rainfall'] = interp_rainfall(pollutants_15min.index)\n",
        "\n",
        "#print(pollutants_15min.columns)"
      ],
      "metadata": {
        "id": "lN6VmoWxw7ju"
      },
      "execution_count": null,
      "outputs": []
    },
    {
      "cell_type": "code",
      "source": [
        "from google.colab import files\n",
        "#pollutants_15min\n",
        "# Save the data to an Excel file\n",
        "pollutants_15min.to_excel('pollutants_15min.xlsx', sheet_name='Sheet1')\n",
        "\n",
        "# Download the Excel file to your local machine\n",
        "files.download('pollutants_15min.xlsx')"
      ],
      "metadata": {
        "colab": {
          "base_uri": "https://localhost:8080/",
          "height": 17
        },
        "id": "w2n3CRQgIYGb",
        "outputId": "d8bd5568-254e-4ac8-adef-36d0edbca4f5"
      },
      "execution_count": null,
      "outputs": [
        {
          "output_type": "display_data",
          "data": {
            "text/plain": [
              "<IPython.core.display.Javascript object>"
            ],
            "application/javascript": [
              "\n",
              "    async function download(id, filename, size) {\n",
              "      if (!google.colab.kernel.accessAllowed) {\n",
              "        return;\n",
              "      }\n",
              "      const div = document.createElement('div');\n",
              "      const label = document.createElement('label');\n",
              "      label.textContent = `Downloading \"${filename}\": `;\n",
              "      div.appendChild(label);\n",
              "      const progress = document.createElement('progress');\n",
              "      progress.max = size;\n",
              "      div.appendChild(progress);\n",
              "      document.body.appendChild(div);\n",
              "\n",
              "      const buffers = [];\n",
              "      let downloaded = 0;\n",
              "\n",
              "      const channel = await google.colab.kernel.comms.open(id);\n",
              "      // Send a message to notify the kernel that we're ready.\n",
              "      channel.send({})\n",
              "\n",
              "      for await (const message of channel.messages) {\n",
              "        // Send a message to notify the kernel that we're ready.\n",
              "        channel.send({})\n",
              "        if (message.buffers) {\n",
              "          for (const buffer of message.buffers) {\n",
              "            buffers.push(buffer);\n",
              "            downloaded += buffer.byteLength;\n",
              "            progress.value = downloaded;\n",
              "          }\n",
              "        }\n",
              "      }\n",
              "      const blob = new Blob(buffers, {type: 'application/binary'});\n",
              "      const a = document.createElement('a');\n",
              "      a.href = window.URL.createObjectURL(blob);\n",
              "      a.download = filename;\n",
              "      div.appendChild(a);\n",
              "      a.click();\n",
              "      div.remove();\n",
              "    }\n",
              "  "
            ]
          },
          "metadata": {}
        },
        {
          "output_type": "display_data",
          "data": {
            "text/plain": [
              "<IPython.core.display.Javascript object>"
            ],
            "application/javascript": [
              "download(\"download_343023ab-80f9-492b-b6d4-47c6dc151b72\", \"pollutants_15min.xlsx\", 13063)"
            ]
          },
          "metadata": {}
        }
      ]
    },
    {
      "cell_type": "code",
      "source": [
        "import matplotlib.pyplot as plt\n",
        "\n",
        "# Plot the flow and rainfall data\n",
        "# pollutants_15min.plot(x=None, y=['flow_interp', 'rainfall_interp'])\n",
        "\n",
        "# create a scatter plot with smooth lines for the 'flow_interp' column\n",
        "plt.scatter(pollutants_15min.index, pollutants_15min['flow_interp'], color='red', alpha=0.5, s=100)\n",
        "\n",
        "# create a scatter plot with smooth lines for the 'rainfall_interp' column\n",
        "plt.scatter(pollutants_15min.index, pollutants_15min['rainfall_interp'], color='blue', alpha=0.5, s=100)\n",
        "\n",
        "# show the plot\n",
        "plt.show()\n",
        "\n",
        "# Show the plot\n",
        "plt.show()"
      ],
      "metadata": {
        "colab": {
          "base_uri": "https://localhost:8080/",
          "height": 265
        },
        "id": "r9bKbkUIpPZ0",
        "outputId": "b87d7ac5-842d-41d9-872a-11c961e3a2c6"
      },
      "execution_count": null,
      "outputs": [
        {
          "output_type": "display_data",
          "data": {
            "text/plain": [
              "<Figure size 432x288 with 1 Axes>"
            ],
            "image/png": "[encoded data removed]"
          },
          "metadata": {
            "needs_background": "light"
          }
        }
      ]
    }
  ]
}